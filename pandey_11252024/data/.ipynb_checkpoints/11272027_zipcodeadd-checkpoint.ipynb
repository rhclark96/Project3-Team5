{
 "cells": [
  {
   "cell_type": "markdown",
   "id": "d597a895",
   "metadata": {},
   "source": [
    "# Importing and Cleaning of Data \n",
    "From CSV file back to a \"cleaned\" CSV"
   ]
  },
  {
   "cell_type": "code",
   "execution_count": 7,
   "id": "35bff69f",
   "metadata": {},
   "outputs": [
    {
     "ename": "SyntaxError",
     "evalue": "invalid syntax (1438416363.py, line 9)",
     "output_type": "error",
     "traceback": [
      "\u001b[0;36m  Cell \u001b[0;32mIn[7], line 9\u001b[0;36m\u001b[0m\n\u001b[0;31m    pip install geopy\u001b[0m\n\u001b[0m        ^\u001b[0m\n\u001b[0;31mSyntaxError\u001b[0m\u001b[0;31m:\u001b[0m invalid syntax\n"
     ]
    }
   ],
   "source": [
    "#Importing Libraries\n",
    "import pandas as pd\n",
    "from pathlib import Path \n",
    "import requests\n",
    "import json\n",
    "import time\n",
    "import numpy as np\n",
    "import re\n",
    "from geopy.geocoders import Nominatim"
   ]
  },
  {
   "cell_type": "code",
   "execution_count": null,
   "id": "ab85d0b9",
   "metadata": {},
   "outputs": [],
   "source": [
    "#Read CSV file into a Dataframe\n",
    "vaccine_providers = Path(\"../Resources/Vaccines.gov__COVID-19_vaccinating_provider_locations_20241118.csv\")\n",
    "providers_df = pd.read_csv(vaccine_providers)\n",
    "\n",
    "providers_df.head()"
   ]
  },
  {
   "cell_type": "code",
   "execution_count": null,
   "id": "8114ab27",
   "metadata": {},
   "outputs": [],
   "source": [
    "Location Name          object\n",
    "Phone Number           object\n",
    "Street Address         object\n",
    "City                   object\n",
    "State                  object\n",
    "Zip Code               object\n",
    "Website                object\n",
    "Insurance Accepted       bool\n",
    "Walk-Ins Accepted        bool\n",
    "Types of Vaccine       object\n",
    "In Stock                 bool\n",
    "Last Updated           object\n",
    "Latitude              float64\n",
    "Longitude             float64\n",
    "dtype: object"
   ]
  },
  {
   "cell_type": "code",
   "execution_count": null,
   "id": "15363442",
   "metadata": {},
   "outputs": [],
   "source": [
    "#Rename and reorganize columns of the DataFrame\n",
    "renamed_df = providers_df.rename(columns={\"loc_phone\":\"Phone Number\", \n",
    "                                         \"loc_name\":\"Location Name\", \n",
    "                                         \"loc_admin_street1\":\"Street Address\",\n",
    "                                         \"loc_admin_city\":\"City\", \n",
    "                                         \"loc_admin_state\":\"State\", \n",
    "                                         \"loc_admin_zip\":\"Zip Code\", \n",
    "                                         \"web_address\":\"Website\", \n",
    "                                         \"insurance_accepted\":\"Insurance Accepted\",\n",
    "                                          \"walkins_accepted\": \"Walk-Ins Accepted\",\n",
    "                                          \"med_name\":\"Types of Vaccine\", \n",
    "                                          \"in_stock\":\"In Stock\", \n",
    "                                          \"quantity_last_updated\":\"Last Updated\", \n",
    "                                          \"latitude\": \"Latitude\", \n",
    "                                          \"longitude\":\"Longitude\"})\n",
    "vaccine_providers_df = renamed_df[[\"Location Name\", \n",
    "                                   \"Phone Number\", \n",
    "                                   \"Street Address\", \n",
    "                                   \"City\", \n",
    "                                   \"State\", \n",
    "                                   \"Zip Code\",\n",
    "                                  \"Website\",\n",
    "                                  \"Insurance Accepted\",\n",
    "                                  \"Walk-Ins Accepted\", \n",
    "                                  \"Types of Vaccine\",\n",
    "                                  \"In Stock\",\n",
    "                                  \"Last Updated\", \n",
    "                                  \"Latitude\", \n",
    "                                  \"Longitude\"]]\n",
    "vaccine_providers_df.head()"
   ]
  },
  {
   "cell_type": "code",
   "execution_count": 2,
   "id": "3e729ba5",
   "metadata": {},
   "outputs": [
    {
     "ename": "NameError",
     "evalue": "name 'vaccine_providers_df' is not defined",
     "output_type": "error",
     "traceback": [
      "\u001b[0;31m---------------------------------------------------------------------------\u001b[0m",
      "\u001b[0;31mNameError\u001b[0m                                 Traceback (most recent call last)",
      "Cell \u001b[0;32mIn[2], line 2\u001b[0m\n\u001b[1;32m      1\u001b[0m \u001b[38;5;66;03m#Check data types\u001b[39;00m\n\u001b[0;32m----> 2\u001b[0m \u001b[43mvaccine_providers_df\u001b[49m\u001b[38;5;241m.\u001b[39mdtypes\n",
      "\u001b[0;31mNameError\u001b[0m: name 'vaccine_providers_df' is not defined"
     ]
    }
   ],
   "source": [
    "#Check data types\n",
    "vaccine_providers_df.dtypes"
   ]
  },
  {
   "cell_type": "code",
   "execution_count": 3,
   "id": "7efbc3e5",
   "metadata": {},
   "outputs": [
    {
     "ename": "NameError",
     "evalue": "name 'vaccine_providers_df' is not defined",
     "output_type": "error",
     "traceback": [
      "\u001b[0;31m---------------------------------------------------------------------------\u001b[0m",
      "\u001b[0;31mNameError\u001b[0m                                 Traceback (most recent call last)",
      "Cell \u001b[0;32mIn[3], line 9\u001b[0m\n\u001b[1;32m      6\u001b[0m     \u001b[38;5;28;01mreturn\u001b[39;00m re\u001b[38;5;241m.\u001b[39msub(pattern, replacement, phone)\n\u001b[1;32m      8\u001b[0m \u001b[38;5;66;03m# Apply the function to the 'Phone Number' column\u001b[39;00m\n\u001b[0;32m----> 9\u001b[0m vaccine_providers_df[\u001b[38;5;124m'\u001b[39m\u001b[38;5;124mPhone Number\u001b[39m\u001b[38;5;124m'\u001b[39m] \u001b[38;5;241m=\u001b[39m \u001b[43mvaccine_providers_df\u001b[49m[\u001b[38;5;124m'\u001b[39m\u001b[38;5;124mPhone Number\u001b[39m\u001b[38;5;124m'\u001b[39m]\u001b[38;5;241m.\u001b[39mapply(convert_phone_number)\n\u001b[1;32m     11\u001b[0m \u001b[38;5;66;03m#Convert phone numbers from having (Areacode in parentheses) to 314-123-4567 format.\u001b[39;00m\n\u001b[1;32m     12\u001b[0m \u001b[38;5;28;01mdef\u001b[39;00m \u001b[38;5;21mconvert_phone_number\u001b[39m(phone):\n",
      "\u001b[0;31mNameError\u001b[0m: name 'vaccine_providers_df' is not defined"
     ]
    }
   ],
   "source": [
    "#Convert all phone numbers to same format\n",
    "#Convert phone numbers with a decimal to dashes\n",
    "def convert_phone_number(phone):\n",
    "    pattern = r\"(\\d{3})(\\d{3})(\\d{4})\\.0\"\n",
    "    replacement = r\"\\1-\\2-\\3\"\n",
    "    return re.sub(pattern, replacement, phone)\n",
    "\n",
    "# Apply the function to the 'Phone Number' column\n",
    "vaccine_providers_df['Phone Number'] = vaccine_providers_df['Phone Number'].apply(convert_phone_number)\n",
    "\n",
    "#Convert phone numbers from having (Areacode in parentheses) to 314-123-4567 format.\n",
    "def convert_phone_number(phone):\n",
    "    pattern = r\"\\((\\d{3})\\) (\\d{3})-(\\d{4})\"\n",
    "    replacement = r\"\\1-\\2-\\3\"\n",
    "    return re.sub(pattern, replacement, phone)\n",
    "\n",
    "# Apply the function to the 'Phone Number' column\n",
    "vaccine_providers_df['Phone Number'] = vaccine_providers_df['Phone Number'].apply(convert_phone_number)\n",
    "\n",
    "#Convert phone numbers from 3141234567 to 314-123-4567 format.\n",
    "def convert_phone_number(phone):\n",
    "    pattern = r\"(\\d{3})(\\d{3})(\\d{4})\"\n",
    "    replacement = r\"\\1-\\2-\\3\"\n",
    "    return re.sub(pattern, replacement, phone)\n",
    "\n",
    "# Apply the function to the 'Phone Number' column\n",
    "vaccine_providers_df['Phone Number'] = vaccine_providers_df['Phone Number'].apply(convert_phone_number)\n",
    "\n",
    "vaccine_providers_df.head()"
   ]
  },
  {
   "cell_type": "code",
   "execution_count": 4,
   "id": "62eea0e0",
   "metadata": {},
   "outputs": [
    {
     "ename": "NameError",
     "evalue": "name 'vaccine_providers_df' is not defined",
     "output_type": "error",
     "traceback": [
      "\u001b[0;31m---------------------------------------------------------------------------\u001b[0m",
      "\u001b[0;31mNameError\u001b[0m                                 Traceback (most recent call last)",
      "Cell \u001b[0;32mIn[4], line 7\u001b[0m\n\u001b[1;32m      5\u001b[0m     \u001b[38;5;28;01mif\u001b[39;00m match:\n\u001b[1;32m      6\u001b[0m         \u001b[38;5;28;01mreturn\u001b[39;00m match\u001b[38;5;241m.\u001b[39mgroup(\u001b[38;5;241m1\u001b[39m)\n\u001b[0;32m----> 7\u001b[0m vaccine_providers_df[\u001b[38;5;124m'\u001b[39m\u001b[38;5;124mZip Code\u001b[39m\u001b[38;5;124m'\u001b[39m] \u001b[38;5;241m=\u001b[39m \u001b[43mvaccine_providers_df\u001b[49m[\u001b[38;5;124m'\u001b[39m\u001b[38;5;124mZip Code\u001b[39m\u001b[38;5;124m'\u001b[39m]\u001b[38;5;241m.\u001b[39mapply(fix_zipcode)\n\u001b[1;32m      8\u001b[0m \u001b[38;5;66;03m# Display the updated DataFrame\u001b[39;00m\n\u001b[1;32m      9\u001b[0m vaccine_providers_df\n",
      "\u001b[0;31mNameError\u001b[0m: name 'vaccine_providers_df' is not defined"
     ]
    }
   ],
   "source": [
    "#Clean all zip codes to be 5 digits only\n",
    "#Fix the zipcode to have five digits\n",
    "def fix_zipcode(zipcode):\n",
    "    match = re.match(r'(\\d{5})-\\d{4}', zipcode)\n",
    "    if match:\n",
    "        return match.group(1)\n",
    "vaccine_providers_df['Zip Code'] = vaccine_providers_df['Zip Code'].apply(fix_zipcode)\n",
    "# Display the updated DataFrame\n",
    "vaccine_providers_df"
   ]
  },
  {
   "cell_type": "code",
   "execution_count": 5,
   "id": "8e453dfd",
   "metadata": {},
   "outputs": [
    {
     "ename": "NameError",
     "evalue": "name 'vaccine_providers_df' is not defined",
     "output_type": "error",
     "traceback": [
      "\u001b[0;31m---------------------------------------------------------------------------\u001b[0m",
      "\u001b[0;31mNameError\u001b[0m                                 Traceback (most recent call last)",
      "Cell \u001b[0;32mIn[5], line 7\u001b[0m\n\u001b[1;32m      5\u001b[0m     \u001b[38;5;28;01melse\u001b[39;00m:\n\u001b[1;32m      6\u001b[0m         \u001b[38;5;28;01mreturn\u001b[39;00m \u001b[38;5;28;01mFalse\u001b[39;00m\n\u001b[0;32m----> 7\u001b[0m vaccine_providers_df[\u001b[38;5;124m'\u001b[39m\u001b[38;5;124mInsurance Accepted\u001b[39m\u001b[38;5;124m'\u001b[39m] \u001b[38;5;241m=\u001b[39m \u001b[43mvaccine_providers_df\u001b[49m[\u001b[38;5;124m'\u001b[39m\u001b[38;5;124mInsurance Accepted\u001b[39m\u001b[38;5;124m'\u001b[39m]\u001b[38;5;241m.\u001b[39mapply(convert_Insurance_to_boolean)\n\u001b[1;32m      9\u001b[0m \u001b[38;5;28;01mdef\u001b[39;00m \u001b[38;5;21mconvert_Walk_Ins_to_boolean\u001b[39m(value):\n\u001b[1;32m     10\u001b[0m     \u001b[38;5;28;01mif\u001b[39;00m value \u001b[38;5;129;01min\u001b[39;00m [\u001b[38;5;124m'\u001b[39m\u001b[38;5;124mTrue\u001b[39m\u001b[38;5;124m'\u001b[39m, \u001b[38;5;28;01mTrue\u001b[39;00m]:\n",
      "\u001b[0;31mNameError\u001b[0m: name 'vaccine_providers_df' is not defined"
     ]
    }
   ],
   "source": [
    "#Convert the insuracne and walk-ins columns to booleans\n",
    "def convert_Insurance_to_boolean(value):\n",
    "    if value in ['True', True]:\n",
    "        return True\n",
    "    else:\n",
    "        return False\n",
    "vaccine_providers_df['Insurance Accepted'] = vaccine_providers_df['Insurance Accepted'].apply(convert_Insurance_to_boolean)\n",
    "\n",
    "def convert_Walk_Ins_to_boolean(value):\n",
    "    if value in ['True', True]:\n",
    "        return True\n",
    "    else:\n",
    "        return False\n",
    "vaccine_providers_df['Walk-Ins Accepted'] = vaccine_providers_df['Walk-Ins Accepted'].apply(convert_Walk_Ins_to_boolean)\n"
   ]
  },
  {
   "cell_type": "code",
   "execution_count": null,
   "id": "a7a2b3e1",
   "metadata": {},
   "outputs": [],
   "source": [
    "#Check data types for all columns\n",
    "vaccine_providers_df.dtypes"
   ]
  },
  {
   "cell_type": "code",
   "execution_count": null,
   "id": "d409fa1a",
   "metadata": {},
   "outputs": [],
   "source": [
    "#Save DataFrame to a csv\n",
    "vaccine_providers_df.to_csv(\"Vaccine Providers.csv\")"
   ]
  },
  {
   "cell_type": "code",
   "execution_count": null,
   "id": "20ebafe1",
   "metadata": {},
   "outputs": [],
   "source": [
    "#Save DataFrame to a csv\n",
    "vaccine_providers_df.to_json(\"providers.json\")"
   ]
  },
  {
   "cell_type": "code",
   "execution_count": null,
   "id": "05e64745",
   "metadata": {},
   "outputs": [],
   "source": [
    "# Check for NaN values\n",
    "nan_count = vaccine_providers_df.isnull().sum()\n",
    "\n",
    "# Display the count of NaN values for each column\n",
    "print(\"Count of NaN values in each column:\")\n",
    "print(nan_count)\n",
    "\n",
    "# To get the locations of NaN values\n",
    "nan_locations = vaccine_providers_df.isnull()\n",
    "print(\"\\nLocations of NaN values:\")\n",
    "print(nan_locations)"
   ]
  },
  {
   "cell_type": "code",
   "execution_count": null,
   "id": "0a0faa9c",
   "metadata": {},
   "outputs": [],
   "source": [
    "zipcode_drop_df = vaccine_providers_df.drop(columns=['Zip Code'])\n",
    "print(zipcode_drop_df)"
   ]
  },
  {
   "cell_type": "code",
   "execution_count": null,
   "id": "218d8c8a",
   "metadata": {},
   "outputs": [],
   "source": [
    "nozipcode_latlng_dropna_df = zipcode_drop_df.dropna()\n",
    "\n",
    "# Display the cleaned DataFrame\n",
    "print(\"\\nDataFrame after removing rows with null values:\")\n",
    "print(nozipcode_latlng_dropna_df)"
   ]
  },
  {
   "cell_type": "code",
   "execution_count": null,
   "id": "5899ea6f",
   "metadata": {},
   "outputs": [],
   "source": [
    "#Save DataFrame to a csv\n",
    "nozipcode_latlng_dropna_df.to_csv(\"nozipcode.csv\")"
   ]
  },
  {
   "cell_type": "code",
   "execution_count": null,
   "id": "515ee944",
   "metadata": {},
   "outputs": [],
   "source": []
  },
  {
   "cell_type": "code",
   "execution_count": null,
   "id": "a1149c33",
   "metadata": {},
   "outputs": [],
   "source": [
    "dropvaccinetypes_df = nozipcode_latlng_dropna_df.drop(columns=['Types of Vaccine'])\n",
    "print(dropvaccinetypes_df)"
   ]
  },
  {
   "cell_type": "code",
   "execution_count": null,
   "id": "4b1a0fc1",
   "metadata": {},
   "outputs": [],
   "source": [
    "dropvaccinetypes_df.head()"
   ]
  },
  {
   "cell_type": "code",
   "execution_count": null,
   "id": "81dbeb68",
   "metadata": {},
   "outputs": [],
   "source": [
    "dropvaccinetypes1_df = dropvaccinetypes_df.dropna()\n",
    "print(dropvaccinetypes1_df)"
   ]
  },
  {
   "cell_type": "code",
   "execution_count": null,
   "id": "61e965e6",
   "metadata": {},
   "outputs": [],
   "source": [
    "novactype_duplicates_df = dropvaccinetypes1_df.drop_duplicates()\n",
    "print(novactype_duplicates_df)"
   ]
  },
  {
   "cell_type": "code",
   "execution_count": null,
   "id": "fda233a2",
   "metadata": {},
   "outputs": [],
   "source": [
    "novactype_duplicates_df.head()"
   ]
  },
  {
   "cell_type": "code",
   "execution_count": null,
   "id": "5fc8dc55",
   "metadata": {},
   "outputs": [],
   "source": [
    "novactypestock_df = novactype_duplicates_df.drop(columns=['In Stock'])\n",
    "print(novactypestock_df)"
   ]
  },
  {
   "cell_type": "code",
   "execution_count": null,
   "id": "69589344",
   "metadata": {},
   "outputs": [],
   "source": [
    "#remove in stock duplicates\n",
    "novactypestockduplicate_df = novactypestock_df.drop_duplicates()\n",
    "print(novactypestockduplicate_df)"
   ]
  },
  {
   "cell_type": "code",
   "execution_count": null,
   "id": "046e9c24",
   "metadata": {},
   "outputs": [],
   "source": [
    "#Save DataFrame to a csv\n",
    "novactypestockduplicate_df.to_csv(\"novactypestock.csv\")\n",
    "# This is the final CSV file as of Nov 25, 2024, ~ 9 pm PST."
   ]
  },
  {
   "cell_type": "code",
   "execution_count": null,
   "id": "ed51ad7c",
   "metadata": {},
   "outputs": [],
   "source": [
    "\n",
    "# Initialize geolocator\n",
    "geolocator = Nominatim(user_agent=\"my_geocoder\")\n",
    "\n",
    "def get_zipcode(row):\n",
    "    location = geolocator.reverse((row['latitude'], row['longitude']), exactly_one=True)\n",
    "    if location:\n",
    "        return location.raw['address'].get('postcode', None)\n",
    "    else:\n",
    "        return None\n",
    "\n",
    "# Apply the function to each row\n",
    "df['zipcode'] = novactypestockduplicate_df.apply(get_zipcode, axis=1)\n",
    "\n",
    "print(df)"
   ]
  },
  {
   "cell_type": "markdown",
   "id": "bde634c8",
   "metadata": {},
   "source": [
    "## Storing of Data in MongoDB, needs to be updated by Rowan"
   ]
  },
  {
   "cell_type": "markdown",
   "id": "e5f14e7a",
   "metadata": {},
   "source": [
    "In the terminal, import data from csv using the following code: \n",
    "mongoImport --type csv -d vaccines_db -c vaccine_providers --headerline --drop Vaccine Providers.csv"
   ]
  },
  {
   "cell_type": "code",
   "execution_count": null,
   "id": "77d79fff",
   "metadata": {},
   "outputs": [],
   "source": []
  },
  {
   "cell_type": "code",
   "execution_count": null,
   "id": "0dc41077",
   "metadata": {},
   "outputs": [],
   "source": [
    "# Module used to connect Python with MongoDB\n",
    "from pymongo import MongoClient"
   ]
  },
  {
   "cell_type": "code",
   "execution_count": null,
   "id": "565e796b",
   "metadata": {},
   "outputs": [],
   "source": [
    "# The default port used by MongoDB is 27017\n",
    "# https://docs.mongodb.com/manual/reference/default-mongodb-port/\n",
    "mongo = MongoClient(port=27017)\n",
    "\n",
    "# Define the 'vaccines_db' database in Mongo\n",
    "db = mongo.vaccines_db\n",
    "\n",
    "# Declare the collection\n",
    "providers = db.vaccine_providers"
   ]
  },
  {
   "cell_type": "code",
   "execution_count": null,
   "id": "b11a0f37",
   "metadata": {},
   "outputs": [],
   "source": [
    "#Check that the data has been stored by making a query from the collection\n",
    "location = providers.find()\n",
    "\n",
    "print(location[0])"
   ]
  },
  {
   "cell_type": "code",
   "execution_count": null,
   "id": "bb2f6ad4",
   "metadata": {},
   "outputs": [],
   "source": []
  }
 ],
 "metadata": {
  "kernelspec": {
   "display_name": "Python 3 (ipykernel)",
   "language": "python",
   "name": "python3"
  },
  "language_info": {
   "codemirror_mode": {
    "name": "ipython",
    "version": 3
   },
   "file_extension": ".py",
   "mimetype": "text/x-python",
   "name": "python",
   "nbconvert_exporter": "python",
   "pygments_lexer": "ipython3",
   "version": "3.10.14"
  }
 },
 "nbformat": 4,
 "nbformat_minor": 5
}
