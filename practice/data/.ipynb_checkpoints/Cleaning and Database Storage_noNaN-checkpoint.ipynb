{
 "cells": [
  {
   "cell_type": "markdown",
   "id": "d597a895",
   "metadata": {},
   "source": [
    "# Importing and Cleaning of Data \n",
    "From CSV file back to a \"cleaned\" CSV"
   ]
  },
  {
   "cell_type": "code",
   "execution_count": 1,
   "id": "35bff69f",
   "metadata": {},
   "outputs": [],
   "source": [
    "#Importing Libraries\n",
    "import pandas as pd\n",
    "from pathlib import Path \n",
    "import requests\n",
    "import json\n",
    "import time\n",
    "import numpy as np\n",
    "import re"
   ]
  },
  {
   "cell_type": "code",
   "execution_count": 2,
   "id": "ab85d0b9",
   "metadata": {},
   "outputs": [
    {
     "name": "stderr",
     "output_type": "stream",
     "text": [
      "C:\\Users\\Rowan\\AppData\\Local\\Temp\\ipykernel_6380\\1773140875.py:3: DtypeWarning: Columns (7,8) have mixed types. Specify dtype option on import or set low_memory=False.\n",
      "  providers_df = pd.read_csv(vaccine_providers)\n"
     ]
    },
    {
     "data": {
      "text/html": [
       "<div>\n",
       "<style scoped>\n",
       "    .dataframe tbody tr th:only-of-type {\n",
       "        vertical-align: middle;\n",
       "    }\n",
       "\n",
       "    .dataframe tbody tr th {\n",
       "        vertical-align: top;\n",
       "    }\n",
       "\n",
       "    .dataframe thead th {\n",
       "        text-align: right;\n",
       "    }\n",
       "</style>\n",
       "<table border=\"1\" class=\"dataframe\">\n",
       "  <thead>\n",
       "    <tr style=\"text-align: right;\">\n",
       "      <th></th>\n",
       "      <th>loc_phone</th>\n",
       "      <th>loc_name</th>\n",
       "      <th>loc_admin_street1</th>\n",
       "      <th>loc_admin_city</th>\n",
       "      <th>loc_admin_state</th>\n",
       "      <th>loc_admin_zip</th>\n",
       "      <th>web_address</th>\n",
       "      <th>insurance_accepted</th>\n",
       "      <th>walkins_accepted</th>\n",
       "      <th>med_name</th>\n",
       "      <th>in_stock</th>\n",
       "      <th>quantity_last_updated</th>\n",
       "      <th>latitude</th>\n",
       "      <th>longitude</th>\n",
       "    </tr>\n",
       "  </thead>\n",
       "  <tbody>\n",
       "    <tr>\n",
       "      <th>0</th>\n",
       "      <td>(504) 737-6242</td>\n",
       "      <td>CVS Pharmacy, Inc. #5340</td>\n",
       "      <td>9643-B JEFFERSON HWY</td>\n",
       "      <td>RIVER RIDGE</td>\n",
       "      <td>LA</td>\n",
       "      <td>70123</td>\n",
       "      <td>https://www.cvs.com/store-locator/details-dire...</td>\n",
       "      <td>True</td>\n",
       "      <td>True</td>\n",
       "      <td>Moderna, SPIKEVAX, 50 mcg/0.5 mL, syringe</td>\n",
       "      <td>False</td>\n",
       "      <td>2024-08-01</td>\n",
       "      <td>29.957522</td>\n",
       "      <td>-90.217062</td>\n",
       "    </tr>\n",
       "    <tr>\n",
       "      <th>1</th>\n",
       "      <td>(215) 836-1323</td>\n",
       "      <td>CVS Pharmacy, Inc. #2113</td>\n",
       "      <td>1600 WADSWORTH AVENUE</td>\n",
       "      <td>PHILADELPHIA</td>\n",
       "      <td>PA</td>\n",
       "      <td>19150</td>\n",
       "      <td>https://www.cvs.com/store-locator/details-dire...</td>\n",
       "      <td>True</td>\n",
       "      <td>True</td>\n",
       "      <td>Pfizer-BioNTech, COVID-19 Vaccine, 10mcg/0.3 m...</td>\n",
       "      <td>False</td>\n",
       "      <td>2024-08-01</td>\n",
       "      <td>40.080415</td>\n",
       "      <td>-75.171958</td>\n",
       "    </tr>\n",
       "    <tr>\n",
       "      <th>2</th>\n",
       "      <td>(619) 315-0016</td>\n",
       "      <td>CVS Pharmacy, Inc. #16504</td>\n",
       "      <td>2911 JAMACHA RD</td>\n",
       "      <td>EL CAJON</td>\n",
       "      <td>CA</td>\n",
       "      <td>92019</td>\n",
       "      <td>https://www.cvs.com/store-locator/details-dire...</td>\n",
       "      <td>True</td>\n",
       "      <td>True</td>\n",
       "      <td>Pfizer-BioNTech, COMIRNATY, 30mcg/0.3 mL, syringe</td>\n",
       "      <td>True</td>\n",
       "      <td>2024-08-01</td>\n",
       "      <td>32.738217</td>\n",
       "      <td>-116.938327</td>\n",
       "    </tr>\n",
       "    <tr>\n",
       "      <th>3</th>\n",
       "      <td>253-851-6939</td>\n",
       "      <td>Rite Aid #RA105255</td>\n",
       "      <td>4818 POINT FOSDICK DR.,NW</td>\n",
       "      <td>GIG HARBOR</td>\n",
       "      <td>WA</td>\n",
       "      <td>98335-1711</td>\n",
       "      <td>https://www.riteaid.com</td>\n",
       "      <td>True</td>\n",
       "      <td>False</td>\n",
       "      <td>Pfizer-BioNTech, COMIRNATY, 30mcg/0.3 mL, syringe</td>\n",
       "      <td>False</td>\n",
       "      <td>2024-08-01</td>\n",
       "      <td>47.302477</td>\n",
       "      <td>-122.581456</td>\n",
       "    </tr>\n",
       "    <tr>\n",
       "      <th>4</th>\n",
       "      <td>7153929520.0</td>\n",
       "      <td>Walmart Inc #10-1447</td>\n",
       "      <td>3705 Tower Ave</td>\n",
       "      <td>Superior</td>\n",
       "      <td>WI</td>\n",
       "      <td>54880-5338</td>\n",
       "      <td>https://www.walmart.com/store/1447</td>\n",
       "      <td>True</td>\n",
       "      <td>True</td>\n",
       "      <td>Pfizer-BioNTech, COMIRNATY, 30mcg/0.3 mL, syringe</td>\n",
       "      <td>False</td>\n",
       "      <td>2024-08-01</td>\n",
       "      <td>46.694518</td>\n",
       "      <td>-92.106958</td>\n",
       "    </tr>\n",
       "  </tbody>\n",
       "</table>\n",
       "</div>"
      ],
      "text/plain": [
       "        loc_phone                   loc_name          loc_admin_street1  \\\n",
       "0  (504) 737-6242   CVS Pharmacy, Inc. #5340       9643-B JEFFERSON HWY   \n",
       "1  (215) 836-1323   CVS Pharmacy, Inc. #2113      1600 WADSWORTH AVENUE   \n",
       "2  (619) 315-0016  CVS Pharmacy, Inc. #16504            2911 JAMACHA RD   \n",
       "3    253-851-6939         Rite Aid #RA105255  4818 POINT FOSDICK DR.,NW   \n",
       "4    7153929520.0       Walmart Inc #10-1447             3705 Tower Ave   \n",
       "\n",
       "  loc_admin_city loc_admin_state loc_admin_zip  \\\n",
       "0    RIVER RIDGE              LA         70123   \n",
       "1   PHILADELPHIA              PA         19150   \n",
       "2       EL CAJON              CA         92019   \n",
       "3     GIG HARBOR              WA    98335-1711   \n",
       "4       Superior              WI    54880-5338   \n",
       "\n",
       "                                         web_address insurance_accepted  \\\n",
       "0  https://www.cvs.com/store-locator/details-dire...               True   \n",
       "1  https://www.cvs.com/store-locator/details-dire...               True   \n",
       "2  https://www.cvs.com/store-locator/details-dire...               True   \n",
       "3                            https://www.riteaid.com               True   \n",
       "4                 https://www.walmart.com/store/1447               True   \n",
       "\n",
       "  walkins_accepted                                           med_name  \\\n",
       "0             True          Moderna, SPIKEVAX, 50 mcg/0.5 mL, syringe   \n",
       "1             True  Pfizer-BioNTech, COVID-19 Vaccine, 10mcg/0.3 m...   \n",
       "2             True  Pfizer-BioNTech, COMIRNATY, 30mcg/0.3 mL, syringe   \n",
       "3            False  Pfizer-BioNTech, COMIRNATY, 30mcg/0.3 mL, syringe   \n",
       "4             True  Pfizer-BioNTech, COMIRNATY, 30mcg/0.3 mL, syringe   \n",
       "\n",
       "   in_stock quantity_last_updated   latitude   longitude  \n",
       "0     False            2024-08-01  29.957522  -90.217062  \n",
       "1     False            2024-08-01  40.080415  -75.171958  \n",
       "2      True            2024-08-01  32.738217 -116.938327  \n",
       "3     False            2024-08-01  47.302477 -122.581456  \n",
       "4     False            2024-08-01  46.694518  -92.106958  "
      ]
     },
     "execution_count": 2,
     "metadata": {},
     "output_type": "execute_result"
    }
   ],
   "source": [
    "#Read CSV file into a Dataframe\n",
    "vaccine_providers = Path(\"../Resources/Vaccines.gov__COVID-19_vaccinating_provider_locations_20241118.csv\")\n",
    "providers_df = pd.read_csv(vaccine_providers)\n",
    "\n",
    "providers_df.head()"
   ]
  },
  {
   "cell_type": "code",
   "execution_count": 3,
   "id": "8114ab27",
   "metadata": {},
   "outputs": [
    {
     "ename": "SyntaxError",
     "evalue": "invalid syntax (4118831930.py, line 1)",
     "output_type": "error",
     "traceback": [
      "\u001b[1;36m  Cell \u001b[1;32mIn[3], line 1\u001b[1;36m\u001b[0m\n\u001b[1;33m    Location Name          object\u001b[0m\n\u001b[1;37m             ^\u001b[0m\n\u001b[1;31mSyntaxError\u001b[0m\u001b[1;31m:\u001b[0m invalid syntax\n"
     ]
    }
   ],
   "source": [
    "Location Name          object\n",
    "Phone Number           object\n",
    "Street Address         object\n",
    "City                   object\n",
    "State                  object\n",
    "Zip Code               object\n",
    "Website                object\n",
    "Insurance Accepted       bool\n",
    "Walk-Ins Accepted        bool\n",
    "Types of Vaccine       object\n",
    "In Stock                 bool\n",
    "Last Updated           object\n",
    "Latitude              float64\n",
    "Longitude             float64\n",
    "dtype: object"
   ]
  },
  {
   "cell_type": "code",
   "execution_count": null,
   "id": "15363442",
   "metadata": {},
   "outputs": [],
   "source": [
    "#Rename and reorganize columns of the DataFrame\n",
    "renamed_df = providers_df.rename(columns={\"loc_phone\":\"Phone Number\", \n",
    "                                         \"loc_name\":\"Location Name\", \n",
    "                                         \"loc_admin_street1\":\"Street Address\",\n",
    "                                         \"loc_admin_city\":\"City\", \n",
    "                                         \"loc_admin_state\":\"State\", \n",
    "                                         \"loc_admin_zip\":\"Zip Code\", \n",
    "                                         \"web_address\":\"Website\", \n",
    "                                         \"insurance_accepted\":\"Insurance Accepted\",\n",
    "                                          \"walkins_accepted\": \"Walk-Ins Accepted\",\n",
    "                                          \"med_name\":\"Types of Vaccine\", \n",
    "                                          \"in_stock\":\"In Stock\", \n",
    "                                          \"quantity_last_updated\":\"Last Updated\", \n",
    "                                          \"latitude\": \"Latitude\", \n",
    "                                          \"longitude\":\"Longitude\"})\n",
    "vaccine_providers_df = renamed_df[[\"Location Name\", \n",
    "                                   \"Phone Number\", \n",
    "                                   \"Street Address\", \n",
    "                                   \"City\", \n",
    "                                   \"State\", \n",
    "                                   \"Zip Code\",\n",
    "                                  \"Website\",\n",
    "                                  \"Insurance Accepted\",\n",
    "                                  \"Walk-Ins Accepted\", \n",
    "                                  \"Types of Vaccine\",\n",
    "                                  \"In Stock\",\n",
    "                                  \"Last Updated\", \n",
    "                                  \"Latitude\", \n",
    "                                  \"Longitude\"]]\n",
    "vaccine_providers_df.head()"
   ]
  },
  {
   "cell_type": "code",
   "execution_count": null,
   "id": "3e729ba5",
   "metadata": {},
   "outputs": [],
   "source": [
    "#Check data types\n",
    "vaccine_providers_df.dtypes"
   ]
  },
  {
   "cell_type": "code",
   "execution_count": null,
   "id": "7efbc3e5",
   "metadata": {},
   "outputs": [],
   "source": [
    "#Convert all phone numbers to same format\n",
    "#Convert phone numbers with a decimal to dashes\n",
    "def convert_phone_number(phone):\n",
    "    pattern = r\"(\\d{3})(\\d{3})(\\d{4})\\.0\"\n",
    "    replacement = r\"\\1-\\2-\\3\"\n",
    "    return re.sub(pattern, replacement, phone)\n",
    "\n",
    "# Apply the function to the 'Phone Number' column\n",
    "vaccine_providers_df['Phone Number'] = vaccine_providers_df['Phone Number'].apply(convert_phone_number)\n",
    "\n",
    "#Convert phone numbers from having (Areacode in parentheses) to 314-123-4567 format.\n",
    "def convert_phone_number(phone):\n",
    "    pattern = r\"\\((\\d{3})\\) (\\d{3})-(\\d{4})\"\n",
    "    replacement = r\"\\1-\\2-\\3\"\n",
    "    return re.sub(pattern, replacement, phone)\n",
    "\n",
    "# Apply the function to the 'Phone Number' column\n",
    "vaccine_providers_df['Phone Number'] = vaccine_providers_df['Phone Number'].apply(convert_phone_number)\n",
    "\n",
    "#Convert phone numbers from 3141234567 to 314-123-4567 format.\n",
    "def convert_phone_number(phone):\n",
    "    pattern = r\"(\\d{3})(\\d{3})(\\d{4})\"\n",
    "    replacement = r\"\\1-\\2-\\3\"\n",
    "    return re.sub(pattern, replacement, phone)\n",
    "\n",
    "# Apply the function to the 'Phone Number' column\n",
    "vaccine_providers_df['Phone Number'] = vaccine_providers_df['Phone Number'].apply(convert_phone_number)\n",
    "\n",
    "vaccine_providers_df.head()"
   ]
  },
  {
   "cell_type": "code",
   "execution_count": null,
   "id": "62eea0e0",
   "metadata": {},
   "outputs": [],
   "source": [
    "#Clean all zip codes to be 5 digits only\n",
    "#Fix the zipcode to have five digits\n",
    "def fix_zipcode(zipcode):\n",
    "    match = re.match(r'(\\d{5})-\\d{4}', zipcode)\n",
    "    if match:\n",
    "        return match.group(1)\n",
    "vaccine_providers_df['Zip Code'] = vaccine_providers_df['Zip Code'].apply(fix_zipcode)\n",
    "\n",
    "# Display the updated DataFrame\n",
    "vaccine_providers_df"
   ]
  },
  {
   "cell_type": "code",
   "execution_count": null,
   "id": "8e453dfd",
   "metadata": {},
   "outputs": [],
   "source": [
    "#Convert the insuracne and walk-ins columns to booleans\n",
    "def convert_Insurance_to_boolean(value):\n",
    "    if value in ['True', True]:\n",
    "        return True\n",
    "    else:\n",
    "        return False\n",
    "vaccine_providers_df['Insurance Accepted'] = vaccine_providers_df['Insurance Accepted'].apply(convert_Insurance_to_boolean)\n",
    "\n",
    "def convert_Walk_Ins_to_boolean(value):\n",
    "    if value in ['True', True]:\n",
    "        return True\n",
    "    else:\n",
    "        return False\n",
    "vaccine_providers_df['Walk-Ins Accepted'] = vaccine_providers_df['Walk-Ins Accepted'].apply(convert_Walk_Ins_to_boolean)\n"
   ]
  },
  {
   "cell_type": "code",
   "execution_count": null,
   "id": "a7a2b3e1",
   "metadata": {},
   "outputs": [],
   "source": [
    "#Check data types for all columns\n",
    "vaccine_providers_df.dtypes"
   ]
  },
  {
   "cell_type": "code",
   "execution_count": null,
   "id": "d409fa1a",
   "metadata": {},
   "outputs": [],
   "source": [
    "#Save DataFrame to a csv\n",
    "vaccine_providers_df.to_csv(\"Vaccine Providers.csv\")"
   ]
  },
  {
   "cell_type": "code",
   "execution_count": null,
   "id": "20ebafe1",
   "metadata": {},
   "outputs": [],
   "source": [
    "#Save DataFrame to a csv\n",
    "vaccine_providers_df.to_json(\"providers.json\")"
   ]
  },
  {
   "cell_type": "code",
   "execution_count": null,
   "id": "05e64745",
   "metadata": {},
   "outputs": [],
   "source": [
    "# Check for NaN values\n",
    "nan_count = vaccine_providers_df.isnull().sum()\n",
    "\n",
    "# Display the count of NaN values for each column\n",
    "print(\"Count of NaN values in each column:\")\n",
    "print(nan_count)\n",
    "\n",
    "# To get the locations of NaN values\n",
    "nan_locations = vaccine_providers_df.isnull()\n",
    "print(\"\\nLocations of NaN values:\")\n",
    "print(nan_locations)"
   ]
  },
  {
   "cell_type": "code",
   "execution_count": null,
   "id": "0a0faa9c",
   "metadata": {},
   "outputs": [],
   "source": [
    "zipcode_drop_df = vaccine_providers_df.drop(columns=['Zip Code'])\n",
    "zipcode_drop_df.drop_duplicates(inplace=True)\n",
    "print(zipcode_drop_df)"
   ]
  },
  {
   "cell_type": "code",
   "execution_count": null,
   "id": "218d8c8a",
   "metadata": {},
   "outputs": [],
   "source": [
    "nozipcode_latlng_dropna_df = zipcode_drop_df.dropna()\n",
    "\n",
    "# Display the cleaned DataFrame\n",
    "print(\"\\nDataFrame after removing rows with null values:\")\n",
    "print(nozipcode_latlng_dropna_df)"
   ]
  },
  {
   "cell_type": "code",
   "execution_count": null,
   "id": "5899ea6f",
   "metadata": {},
   "outputs": [],
   "source": [
    "#Save DataFrame to a csv\n",
    "nozipcode_latlng_dropna_df.to_csv(\"nozipcode.csv\")"
   ]
  },
  {
   "cell_type": "code",
   "execution_count": null,
   "id": "337f7d8d",
   "metadata": {},
   "outputs": [],
   "source": [
    "vaccine_providers_dropna_df = vaccine_providers_df.dropna()\n",
    "\n",
    "# Display the cleaned DataFrame\n",
    "print(\"\\nDataFrame after removing rows with null values:\")\n",
    "print(vaccine_providers_dropna_df)"
   ]
  },
  {
   "cell_type": "markdown",
   "id": "bde634c8",
   "metadata": {},
   "source": [
    "## Storing of Data in MongoDB"
   ]
  },
  {
   "cell_type": "markdown",
   "id": "e5f14e7a",
   "metadata": {},
   "source": [
    "In the terminal, import data from csv using the following code: \n",
    "mongoImport --type csv -d vaccines_db -c vaccine_providers --headerline --drop Vaccine Providers.csv"
   ]
  },
  {
   "cell_type": "code",
   "execution_count": null,
   "id": "0dc41077",
   "metadata": {},
   "outputs": [],
   "source": [
    "# Module used to connect Python with MongoDB\n",
    "from pymongo import MongoClient"
   ]
  },
  {
   "cell_type": "code",
   "execution_count": null,
   "id": "565e796b",
   "metadata": {},
   "outputs": [],
   "source": [
    "# The default port used by MongoDB is 27017\n",
    "# https://docs.mongodb.com/manual/reference/default-mongodb-port/\n",
    "mongo = MongoClient(port=27017)\n",
    "\n",
    "# Define the 'vaccines_db' database in Mongo\n",
    "db = mongo.vaccines_db\n",
    "\n",
    "# Declare the collection\n",
    "providers = db.vaccine_providers"
   ]
  },
  {
   "cell_type": "code",
   "execution_count": null,
   "id": "b11a0f37",
   "metadata": {},
   "outputs": [],
   "source": [
    "#Check that the data has been stored by making a query from the collection\n",
    "location = providers.find()\n",
    "\n",
    "print(location[0])"
   ]
  },
  {
   "cell_type": "code",
   "execution_count": null,
   "id": "bb2f6ad4",
   "metadata": {},
   "outputs": [],
   "source": []
  }
 ],
 "metadata": {
  "kernelspec": {
   "display_name": "Python 3 (ipykernel)",
   "language": "python",
   "name": "python3"
  },
  "language_info": {
   "codemirror_mode": {
    "name": "ipython",
    "version": 3
   },
   "file_extension": ".py",
   "mimetype": "text/x-python",
   "name": "python",
   "nbconvert_exporter": "python",
   "pygments_lexer": "ipython3",
   "version": "3.10.14"
  }
 },
 "nbformat": 4,
 "nbformat_minor": 5
}
